{
 "cells": [
  {
   "cell_type": "code",
   "execution_count": 1,
   "id": "005f53bb",
   "metadata": {},
   "outputs": [],
   "source": [
    "lista = [10,20,30,40,50, 20]\n"
   ]
  },
  {
   "cell_type": "code",
   "execution_count": 2,
   "id": "65e7bf61",
   "metadata": {},
   "outputs": [
    {
     "data": {
      "text/plain": [
       "[10, 20, 30, 40, 50, 20]"
      ]
     },
     "execution_count": 2,
     "metadata": {},
     "output_type": "execute_result"
    }
   ],
   "source": [
    "lista"
   ]
  },
  {
   "cell_type": "code",
   "execution_count": 3,
   "id": "398a299d",
   "metadata": {},
   "outputs": [
    {
     "data": {
      "text/plain": [
       "50"
      ]
     },
     "execution_count": 3,
     "metadata": {},
     "output_type": "execute_result"
    }
   ],
   "source": [
    "lista[4]"
   ]
  },
  {
   "cell_type": "code",
   "execution_count": 4,
   "id": "8d3b699c",
   "metadata": {},
   "outputs": [
    {
     "data": {
      "text/plain": [
       "10"
      ]
     },
     "execution_count": 4,
     "metadata": {},
     "output_type": "execute_result"
    }
   ],
   "source": [
    "min(lista)"
   ]
  },
  {
   "cell_type": "code",
   "execution_count": 5,
   "id": "c15aeb14",
   "metadata": {},
   "outputs": [
    {
     "data": {
      "text/plain": [
       "50"
      ]
     },
     "execution_count": 5,
     "metadata": {},
     "output_type": "execute_result"
    }
   ],
   "source": [
    "max(lista)"
   ]
  },
  {
   "cell_type": "code",
   "execution_count": 6,
   "id": "d73322da",
   "metadata": {},
   "outputs": [],
   "source": [
    "lista.append(70)"
   ]
  },
  {
   "cell_type": "code",
   "execution_count": 7,
   "id": "80764a54",
   "metadata": {},
   "outputs": [
    {
     "data": {
      "text/plain": [
       "[10, 20, 30, 40, 50, 20, 70]"
      ]
     },
     "execution_count": 7,
     "metadata": {},
     "output_type": "execute_result"
    }
   ],
   "source": [
    "lista"
   ]
  },
  {
   "cell_type": "code",
   "execution_count": 9,
   "id": "fe8a29a7",
   "metadata": {},
   "outputs": [],
   "source": [
    "saluda=\"Hola, Isaias, mucho gusto\""
   ]
  },
  {
   "cell_type": "code",
   "execution_count": 10,
   "id": "69707154",
   "metadata": {},
   "outputs": [
    {
     "data": {
      "text/plain": [
       "'Hola, Isaias, mucho gusto'"
      ]
     },
     "execution_count": 10,
     "metadata": {},
     "output_type": "execute_result"
    }
   ],
   "source": [
    "saluda"
   ]
  },
  {
   "cell_type": "code",
   "execution_count": 11,
   "id": "5ae9773d",
   "metadata": {},
   "outputs": [
    {
     "data": {
      "text/plain": [
       "'o'"
      ]
     },
     "execution_count": 11,
     "metadata": {},
     "output_type": "execute_result"
    }
   ],
   "source": [
    "saluda[1]"
   ]
  },
  {
   "cell_type": "code",
   "execution_count": 12,
   "id": "4dc24177",
   "metadata": {},
   "outputs": [
    {
     "data": {
      "text/plain": [
       "'h'"
      ]
     },
     "execution_count": 12,
     "metadata": {},
     "output_type": "execute_result"
    }
   ],
   "source": [
    "saluda[17]"
   ]
  },
  {
   "cell_type": "code",
   "execution_count": 13,
   "id": "d504d8f1",
   "metadata": {},
   "outputs": [
    {
     "data": {
      "text/plain": [
       "False"
      ]
     },
     "execution_count": 13,
     "metadata": {},
     "output_type": "execute_result"
    }
   ],
   "source": [
    "10 // 4 == 10 / 4\n"
   ]
  },
  {
   "cell_type": "code",
   "execution_count": 14,
   "id": "0f125ab6",
   "metadata": {},
   "outputs": [
    {
     "data": {
      "text/plain": [
       "29.0"
      ]
     },
     "execution_count": 14,
     "metadata": {},
     "output_type": "execute_result"
    }
   ],
   "source": [
    "10 / 2 * 5 + 2 ** 2"
   ]
  },
  {
   "cell_type": "code",
   "execution_count": 15,
   "id": "08758c25",
   "metadata": {},
   "outputs": [],
   "source": [
    "lista = [10, 20, 30, 40, 50, 60]"
   ]
  },
  {
   "cell_type": "code",
   "execution_count": 20,
   "id": "e6fceb04",
   "metadata": {},
   "outputs": [],
   "source": [
    "lista = [10, 20, 30, 40, 50, 60] "
   ]
  },
  {
   "cell_type": "code",
   "execution_count": 21,
   "id": "3f01dad9",
   "metadata": {},
   "outputs": [
    {
     "data": {
      "text/plain": [
       "[30, 40, 50, 60]"
      ]
     },
     "execution_count": 21,
     "metadata": {},
     "output_type": "execute_result"
    }
   ],
   "source": [
    "lista[-4:]"
   ]
  },
  {
   "cell_type": "code",
   "execution_count": 22,
   "id": "c56e1584",
   "metadata": {},
   "outputs": [
    {
     "data": {
      "text/plain": [
       "[10, 20, 30, 40, 50, 60]"
      ]
     },
     "execution_count": 22,
     "metadata": {},
     "output_type": "execute_result"
    }
   ],
   "source": [
    "lista"
   ]
  },
  {
   "cell_type": "code",
   "execution_count": 23,
   "id": "58a35191",
   "metadata": {},
   "outputs": [
    {
     "data": {
      "text/plain": [
       "False"
      ]
     },
     "execution_count": 23,
     "metadata": {},
     "output_type": "execute_result"
    }
   ],
   "source": [
    "\"Python para todos\" == \"python para todos\""
   ]
  },
  {
   "cell_type": "code",
   "execution_count": 25,
   "id": "30a65175",
   "metadata": {},
   "outputs": [],
   "source": [
    " lista = [10, 20, 30, 40, 50, 60]"
   ]
  },
  {
   "cell_type": "code",
   "execution_count": 26,
   "id": "59aca1d8",
   "metadata": {},
   "outputs": [
    {
     "data": {
      "text/plain": [
       "40"
      ]
     },
     "execution_count": 26,
     "metadata": {},
     "output_type": "execute_result"
    }
   ],
   "source": [
    " lista.pop(3)"
   ]
  },
  {
   "cell_type": "code",
   "execution_count": 28,
   "id": "a29b0b3d",
   "metadata": {},
   "outputs": [],
   "source": [
    "nombre = \"gaseosa\" "
   ]
  },
  {
   "cell_type": "code",
   "execution_count": 31,
   "id": "d20be40c",
   "metadata": {},
   "outputs": [
    {
     "data": {
      "text/plain": [
       "True"
      ]
     },
     "execution_count": 31,
     "metadata": {},
     "output_type": "execute_result"
    }
   ],
   "source": [
    "nombre = \"Renato\" print(f'Hola, {nombre}')"
   ]
  },
  {
   "cell_type": "code",
   "execution_count": 32,
   "id": "a75e2c68",
   "metadata": {},
   "outputs": [],
   "source": [
    "nombre = \"Renato\" "
   ]
  },
  {
   "cell_type": "code",
   "execution_count": 33,
   "id": "b227019f",
   "metadata": {},
   "outputs": [
    {
     "name": "stdout",
     "output_type": "stream",
     "text": [
      "Hola, Renato\n"
     ]
    }
   ],
   "source": [
    "print(f'Hola, {nombre}')"
   ]
  },
  {
   "cell_type": "code",
   "execution_count": 34,
   "id": "441cb259",
   "metadata": {},
   "outputs": [],
   "source": [
    "lista = [1,2,3,4]"
   ]
  },
  {
   "cell_type": "code",
   "execution_count": 36,
   "id": "46d28948",
   "metadata": {},
   "outputs": [],
   "source": [
    "tupla = (10,20,30,40)"
   ]
  },
  {
   "cell_type": "code",
   "execution_count": 37,
   "id": "aab0b5d4",
   "metadata": {},
   "outputs": [
    {
     "data": {
      "text/plain": [
       "40"
      ]
     },
     "execution_count": 37,
     "metadata": {},
     "output_type": "execute_result"
    }
   ],
   "source": [
    "tupla[3]"
   ]
  },
  {
   "cell_type": "code",
   "execution_count": 38,
   "id": "5e82200c",
   "metadata": {},
   "outputs": [
    {
     "data": {
      "text/plain": [
       "(10, 20, 30, 40)"
      ]
     },
     "execution_count": 38,
     "metadata": {},
     "output_type": "execute_result"
    }
   ],
   "source": [
    "tupla "
   ]
  },
  {
   "cell_type": "code",
   "execution_count": 39,
   "id": "0be8c79c",
   "metadata": {},
   "outputs": [],
   "source": [
    "tupla = 10, 20, 30"
   ]
  },
  {
   "cell_type": "code",
   "execution_count": 40,
   "id": "5aab173f",
   "metadata": {},
   "outputs": [
    {
     "data": {
      "text/plain": [
       "(10, 20, 30)"
      ]
     },
     "execution_count": 40,
     "metadata": {},
     "output_type": "execute_result"
    }
   ],
   "source": [
    "tupla"
   ]
  },
  {
   "cell_type": "code",
   "execution_count": 44,
   "id": "0e43642a",
   "metadata": {},
   "outputs": [
    {
     "data": {
      "text/plain": [
       "list"
      ]
     },
     "execution_count": 44,
     "metadata": {},
     "output_type": "execute_result"
    }
   ],
   "source": [
    "type(lista)"
   ]
  },
  {
   "cell_type": "code",
   "execution_count": 45,
   "id": "06eb93f9",
   "metadata": {},
   "outputs": [],
   "source": [
    "lista = list(tupla)"
   ]
  },
  {
   "cell_type": "code",
   "execution_count": 46,
   "id": "8f6e678b",
   "metadata": {},
   "outputs": [
    {
     "data": {
      "text/plain": [
       "[10, 20, 30]"
      ]
     },
     "execution_count": 46,
     "metadata": {},
     "output_type": "execute_result"
    }
   ],
   "source": [
    "lista"
   ]
  },
  {
   "cell_type": "code",
   "execution_count": 47,
   "id": "b11b5834",
   "metadata": {},
   "outputs": [],
   "source": [
    "lista[1] = 12354"
   ]
  },
  {
   "cell_type": "code",
   "execution_count": 48,
   "id": "b926cc6f",
   "metadata": {},
   "outputs": [
    {
     "data": {
      "text/plain": [
       "[10, 12354, 30]"
      ]
     },
     "execution_count": 48,
     "metadata": {},
     "output_type": "execute_result"
    }
   ],
   "source": [
    "lista"
   ]
  },
  {
   "cell_type": "code",
   "execution_count": 49,
   "id": "68b7be7b",
   "metadata": {},
   "outputs": [],
   "source": [
    "a = 7"
   ]
  },
  {
   "cell_type": "code",
   "execution_count": 50,
   "id": "6f03750c",
   "metadata": {},
   "outputs": [],
   "source": [
    "a, b, c = 4, 5, 6"
   ]
  },
  {
   "cell_type": "code",
   "execution_count": 51,
   "id": "734a8a68",
   "metadata": {},
   "outputs": [
    {
     "data": {
      "text/plain": [
       "5"
      ]
     },
     "execution_count": 51,
     "metadata": {},
     "output_type": "execute_result"
    }
   ],
   "source": [
    "b"
   ]
  },
  {
   "cell_type": "code",
   "execution_count": 52,
   "id": "ea919130",
   "metadata": {},
   "outputs": [
    {
     "data": {
      "text/plain": [
       "4"
      ]
     },
     "execution_count": 52,
     "metadata": {},
     "output_type": "execute_result"
    }
   ],
   "source": [
    "a"
   ]
  },
  {
   "cell_type": "code",
   "execution_count": 53,
   "id": "3851f7a8",
   "metadata": {},
   "outputs": [
    {
     "data": {
      "text/plain": [
       "6"
      ]
     },
     "execution_count": 53,
     "metadata": {},
     "output_type": "execute_result"
    }
   ],
   "source": [
    "c"
   ]
  },
  {
   "cell_type": "code",
   "execution_count": 57,
   "id": "39fb88ef",
   "metadata": {},
   "outputs": [],
   "source": [
    "herramientas_ds= {\"python\",\"R\",\"SQL\", \"Spark\", \"Tableau\"}"
   ]
  },
  {
   "cell_type": "code",
   "execution_count": 58,
   "id": "d13c8cc5",
   "metadata": {},
   "outputs": [
    {
     "data": {
      "text/plain": [
       "{'R', 'SQL', 'Spark', 'Tableau', 'python'}"
      ]
     },
     "execution_count": 58,
     "metadata": {},
     "output_type": "execute_result"
    }
   ],
   "source": [
    "herramientas_ds"
   ]
  },
  {
   "cell_type": "code",
   "execution_count": 59,
   "id": "56ed2f1a",
   "metadata": {},
   "outputs": [],
   "source": [
    "herramientas_ds.add(\"Excel\")"
   ]
  },
  {
   "cell_type": "code",
   "execution_count": 60,
   "id": "01704459",
   "metadata": {},
   "outputs": [
    {
     "data": {
      "text/plain": [
       "{'Excel', 'R', 'SQL', 'Spark', 'Tableau', 'python'}"
      ]
     },
     "execution_count": 60,
     "metadata": {},
     "output_type": "execute_result"
    }
   ],
   "source": [
    "herramientas_ds"
   ]
  },
  {
   "cell_type": "code",
   "execution_count": 61,
   "id": "20b7da17",
   "metadata": {},
   "outputs": [],
   "source": [
    "herramientas_id = {\"Spark\",\"Kafka\",\"SQL\",\"Hadoop\"}"
   ]
  },
  {
   "cell_type": "code",
   "execution_count": 62,
   "id": "fec73f80",
   "metadata": {},
   "outputs": [],
   "source": [
    "herramientas_id.add(\"Docker\")"
   ]
  },
  {
   "cell_type": "code",
   "execution_count": 63,
   "id": "1a7bd240",
   "metadata": {},
   "outputs": [
    {
     "data": {
      "text/plain": [
       "{'Docker', 'Hadoop', 'Kafka', 'SQL', 'Spark'}"
      ]
     },
     "execution_count": 63,
     "metadata": {},
     "output_type": "execute_result"
    }
   ],
   "source": [
    "herramientas_id"
   ]
  },
  {
   "cell_type": "code",
   "execution_count": 64,
   "id": "820d2f41",
   "metadata": {},
   "outputs": [
    {
     "data": {
      "text/plain": [
       "{'SQL', 'Spark'}"
      ]
     },
     "execution_count": 64,
     "metadata": {},
     "output_type": "execute_result"
    }
   ],
   "source": [
    "herramientas_id.intersection(herramientas_ds)"
   ]
  },
  {
   "cell_type": "code",
   "execution_count": 74,
   "id": "2e549679",
   "metadata": {},
   "outputs": [],
   "source": [
    "Casa={\"Duevlño\":[\"Catalina Chumbe\",\"Cirilo Huamani\"],\"Year\":1990, \n",
    "       \"Distrito\":\"Callao, Carmen de la Legua\"}"
   ]
  },
  {
   "cell_type": "code",
   "execution_count": 71,
   "id": "bb02ff76",
   "metadata": {},
   "outputs": [
    {
     "data": {
      "text/plain": [
       "dict"
      ]
     },
     "execution_count": 71,
     "metadata": {},
     "output_type": "execute_result"
    }
   ],
   "source": [
    "type(Casa)"
   ]
  },
  {
   "cell_type": "code",
   "execution_count": 75,
   "id": "b04975df",
   "metadata": {},
   "outputs": [
    {
     "data": {
      "text/plain": [
       "['Catalina Chumbe', 'Cirilo Huamani']"
      ]
     },
     "execution_count": 75,
     "metadata": {},
     "output_type": "execute_result"
    }
   ],
   "source": [
    "Casa[\"Dueño\"]"
   ]
  },
  {
   "cell_type": "code",
   "execution_count": 76,
   "id": "aa83286a",
   "metadata": {},
   "outputs": [
    {
     "data": {
      "text/plain": [
       "'Callao, Carmen de la Legua'"
      ]
     },
     "execution_count": 76,
     "metadata": {},
     "output_type": "execute_result"
    }
   ],
   "source": [
    "Casa[\"Distrito\"]"
   ]
  },
  {
   "cell_type": "code",
   "execution_count": 77,
   "id": "2aed2b19",
   "metadata": {},
   "outputs": [
    {
     "data": {
      "text/plain": [
       "1990"
      ]
     },
     "execution_count": 77,
     "metadata": {},
     "output_type": "execute_result"
    }
   ],
   "source": [
    "Casa[\"Year\"]"
   ]
  },
  {
   "cell_type": "code",
   "execution_count": null,
   "id": "d6fc4d25",
   "metadata": {},
   "outputs": [],
   "source": [
    "Casa.get"
   ]
  },
  {
   "cell_type": "code",
   "execution_count": 79,
   "id": "598d93a8",
   "metadata": {},
   "outputs": [],
   "source": [
    "Casa[\"Alquiler\"]= 300"
   ]
  },
  {
   "cell_type": "code",
   "execution_count": 80,
   "id": "d3507df4",
   "metadata": {},
   "outputs": [
    {
     "data": {
      "text/plain": [
       "{'Dueño': ['Catalina Chumbe', 'Cirilo Huamani'],\n",
       " 'Year': 1990,\n",
       " 'Distrito': 'Callao, Carmen de la Legua',\n",
       " 'Alquiler': 300}"
      ]
     },
     "execution_count": 80,
     "metadata": {},
     "output_type": "execute_result"
    }
   ],
   "source": [
    "Casa"
   ]
  },
  {
   "cell_type": "code",
   "execution_count": 82,
   "id": "dd4b4a32",
   "metadata": {},
   "outputs": [
    {
     "data": {
      "text/plain": [
       "1990"
      ]
     },
     "execution_count": 82,
     "metadata": {},
     "output_type": "execute_result"
    }
   ],
   "source": [
    "Casa.pop(\"Year\")"
   ]
  },
  {
   "cell_type": "code",
   "execution_count": 83,
   "id": "fc9daf5f",
   "metadata": {},
   "outputs": [],
   "source": [
    "Casa[\"Year\"]= 2000"
   ]
  },
  {
   "cell_type": "code",
   "execution_count": 84,
   "id": "9274c225",
   "metadata": {},
   "outputs": [
    {
     "data": {
      "text/plain": [
       "{'Dueño': ['Catalina Chumbe', 'Cirilo Huamani'],\n",
       " 'Distrito': 'Callao, Carmen de la Legua',\n",
       " 'Alquiler': 300,\n",
       " 'Year': 2000}"
      ]
     },
     "execution_count": 84,
     "metadata": {},
     "output_type": "execute_result"
    }
   ],
   "source": [
    "Casa"
   ]
  },
  {
   "cell_type": "code",
   "execution_count": 85,
   "id": "79084e65",
   "metadata": {},
   "outputs": [],
   "source": [
    "Casa[\"Dueño\"] = \"Catalina Chumbe\""
   ]
  },
  {
   "cell_type": "code",
   "execution_count": 86,
   "id": "51fd2f9c",
   "metadata": {},
   "outputs": [
    {
     "data": {
      "text/plain": [
       "{'Dueño': 'Catalina Chumbe',\n",
       " 'Distrito': 'Callao, Carmen de la Legua',\n",
       " 'Alquiler': 300,\n",
       " 'Year': 2000}"
      ]
     },
     "execution_count": 86,
     "metadata": {},
     "output_type": "execute_result"
    }
   ],
   "source": [
    "Casa"
   ]
  },
  {
   "cell_type": "code",
   "execution_count": 87,
   "id": "eb5e7f6b",
   "metadata": {},
   "outputs": [
    {
     "data": {
      "text/plain": [
       "['Dueño', 'Distrito', 'Alquiler', 'Year']"
      ]
     },
     "execution_count": 87,
     "metadata": {},
     "output_type": "execute_result"
    }
   ],
   "source": [
    "keys = list(Casa.keys())\n",
    "keys"
   ]
  },
  {
   "cell_type": "code",
   "execution_count": 89,
   "id": "97f21c8f",
   "metadata": {},
   "outputs": [
    {
     "data": {
      "text/plain": [
       "['Catalina Chumbe', 'Callao, Carmen de la Legua', 300, 2000]"
      ]
     },
     "execution_count": 89,
     "metadata": {},
     "output_type": "execute_result"
    }
   ],
   "source": [
    "values = list(Casa.values())\n",
    "values"
   ]
  },
  {
   "cell_type": "code",
   "execution_count": 92,
   "id": "1ca5ddc5",
   "metadata": {},
   "outputs": [
    {
     "data": {
      "text/plain": [
       "'Catalina Chumbe'"
      ]
     },
     "execution_count": 92,
     "metadata": {},
     "output_type": "execute_result"
    }
   ],
   "source": [
    "values[0]"
   ]
  },
  {
   "cell_type": "code",
   "execution_count": 1,
   "id": "403b6a8a",
   "metadata": {},
   "outputs": [],
   "source": [
    "Casa_extra={'Location': 'Pablo Alto', 'users':'2.5 billion'}"
   ]
  },
  {
   "cell_type": "code",
   "execution_count": 2,
   "id": "98270875",
   "metadata": {},
   "outputs": [
    {
     "data": {
      "text/plain": [
       "{'Location': 'Pablo Alto', 'users': '2.5 billion'}"
      ]
     },
     "execution_count": 2,
     "metadata": {},
     "output_type": "execute_result"
    }
   ],
   "source": [
    "Casa_extra"
   ]
  },
  {
   "cell_type": "code",
   "execution_count": 1,
   "id": "0c5c32f2",
   "metadata": {
    "scrolled": true
   },
   "outputs": [
    {
     "name": "stdout",
     "output_type": "stream",
     "text": [
      "gosha good\n"
     ]
    }
   ],
   "source": [
    "print(\"gosha good\")"
   ]
  },
  {
   "cell_type": "code",
   "execution_count": null,
   "id": "feb390ff",
   "metadata": {},
   "outputs": [],
   "source": []
  }
 ],
 "metadata": {
  "kernelspec": {
   "display_name": "Python 3 (ipykernel)",
   "language": "python",
   "name": "python3"
  },
  "language_info": {
   "codemirror_mode": {
    "name": "ipython",
    "version": 3
   },
   "file_extension": ".py",
   "mimetype": "text/x-python",
   "name": "python",
   "nbconvert_exporter": "python",
   "pygments_lexer": "ipython3",
   "version": "3.9.7"
  }
 },
 "nbformat": 4,
 "nbformat_minor": 5
}
